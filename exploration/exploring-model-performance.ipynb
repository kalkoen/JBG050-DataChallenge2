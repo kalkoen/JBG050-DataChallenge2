{
 "cells": [
  {
   "cell_type": "code",
   "execution_count": 1,
   "metadata": {
    "ExecuteTime": {
     "end_time": "2022-03-25T09:12:33.684067Z",
     "start_time": "2022-03-25T09:12:32.185274Z"
    }
   },
   "outputs": [],
   "source": [
    "%matplotlib inline\n",
    "import numpy as np\n",
    "import pandas as pd\n",
    "import seaborn as sns\n",
    "from tqdm import tqdm\n",
    "import matplotlib as mpl\n",
    "import matplotlib.pyplot as plt"
   ]
  },
  {
   "cell_type": "code",
   "execution_count": 117,
   "metadata": {
    "ExecuteTime": {
     "end_time": "2022-03-25T11:07:45.464713Z",
     "start_time": "2022-03-25T11:07:45.443123Z"
    }
   },
   "outputs": [],
   "source": [
    "sarima = pd.read_csv('sarima performance metrics.csv', index_col = 0)\n",
    "sarima_df = sarima.copy()\n",
    "sarima_df['type'] = 'sarima'\n",
    "\n",
    "sarimax = pd.read_csv('sarimax performance metrics.csv', index_col = 0)\n",
    "sarimax_df = sarimax.copy()\n",
    "sarimax_df['type'] = 'sarimax'\n",
    "\n",
    "holt = pd.read_csv('holt performance metrics.csv', index_col = 0)\n",
    "holt_df = holt.copy()\n",
    "holt_df['type'] = 'holt'\n",
    "\n",
    "measures = pd.concat([sarima_df, sarimax_df, holt_df], ignore_index=True)"
   ]
  },
  {
   "cell_type": "markdown",
   "metadata": {},
   "source": [
    "# mean and median of the different performance measures per type"
   ]
  },
  {
   "cell_type": "markdown",
   "metadata": {},
   "source": [
    "There is a very small difference between the Sarima and the SarimaX models."
   ]
  },
  {
   "cell_type": "code",
   "execution_count": 118,
   "metadata": {
    "ExecuteTime": {
     "end_time": "2022-03-25T11:07:46.067501Z",
     "start_time": "2022-03-25T11:07:46.051905Z"
    }
   },
   "outputs": [
    {
     "data": {
      "text/html": [
       "<div>\n",
       "<style scoped>\n",
       "    .dataframe tbody tr th:only-of-type {\n",
       "        vertical-align: middle;\n",
       "    }\n",
       "\n",
       "    .dataframe tbody tr th {\n",
       "        vertical-align: top;\n",
       "    }\n",
       "\n",
       "    .dataframe thead th {\n",
       "        text-align: right;\n",
       "    }\n",
       "</style>\n",
       "<table border=\"1\" class=\"dataframe\">\n",
       "  <thead>\n",
       "    <tr style=\"text-align: right;\">\n",
       "      <th></th>\n",
       "      <th>r2</th>\n",
       "      <th>MAE</th>\n",
       "      <th>MedAE</th>\n",
       "      <th>MSE</th>\n",
       "      <th>RMSE</th>\n",
       "      <th>MAPE</th>\n",
       "      <th>MDAPE</th>\n",
       "    </tr>\n",
       "    <tr>\n",
       "      <th>type</th>\n",
       "      <th></th>\n",
       "      <th></th>\n",
       "      <th></th>\n",
       "      <th></th>\n",
       "      <th></th>\n",
       "      <th></th>\n",
       "      <th></th>\n",
       "    </tr>\n",
       "  </thead>\n",
       "  <tbody>\n",
       "    <tr>\n",
       "      <th>holt</th>\n",
       "      <td>-7.456266e+02</td>\n",
       "      <td>1.223715e+05</td>\n",
       "      <td>1.250526e+05</td>\n",
       "      <td>1.449505e+11</td>\n",
       "      <td>1.509222e+05</td>\n",
       "      <td>4.696291e+02</td>\n",
       "      <td>3.936821e+02</td>\n",
       "    </tr>\n",
       "    <tr>\n",
       "      <th>sarima</th>\n",
       "      <td>-1.497052e+25</td>\n",
       "      <td>3.910202e+15</td>\n",
       "      <td>1.583824e+15</td>\n",
       "      <td>1.007878e+34</td>\n",
       "      <td>7.127795e+15</td>\n",
       "      <td>1.245914e+12</td>\n",
       "      <td>2.283931e+11</td>\n",
       "    </tr>\n",
       "    <tr>\n",
       "      <th>sarimax</th>\n",
       "      <td>-1.496931e+25</td>\n",
       "      <td>3.877480e+15</td>\n",
       "      <td>1.583824e+15</td>\n",
       "      <td>1.007496e+34</td>\n",
       "      <td>7.020724e+15</td>\n",
       "      <td>1.239137e+12</td>\n",
       "      <td>2.283931e+11</td>\n",
       "    </tr>\n",
       "  </tbody>\n",
       "</table>\n",
       "</div>"
      ],
      "text/plain": [
       "                   r2           MAE         MedAE           MSE          RMSE  \\\n",
       "type                                                                            \n",
       "holt    -7.456266e+02  1.223715e+05  1.250526e+05  1.449505e+11  1.509222e+05   \n",
       "sarima  -1.497052e+25  3.910202e+15  1.583824e+15  1.007878e+34  7.127795e+15   \n",
       "sarimax -1.496931e+25  3.877480e+15  1.583824e+15  1.007496e+34  7.020724e+15   \n",
       "\n",
       "                 MAPE         MDAPE  \n",
       "type                                 \n",
       "holt     4.696291e+02  3.936821e+02  \n",
       "sarima   1.245914e+12  2.283931e+11  \n",
       "sarimax  1.239137e+12  2.283931e+11  "
      ]
     },
     "execution_count": 118,
     "metadata": {},
     "output_type": "execute_result"
    }
   ],
   "source": [
    "measures.groupby('type').mean()"
   ]
  },
  {
   "cell_type": "code",
   "execution_count": 119,
   "metadata": {
    "ExecuteTime": {
     "end_time": "2022-03-25T11:07:46.224195Z",
     "start_time": "2022-03-25T11:07:46.211230Z"
    }
   },
   "outputs": [
    {
     "data": {
      "text/html": [
       "<div>\n",
       "<style scoped>\n",
       "    .dataframe tbody tr th:only-of-type {\n",
       "        vertical-align: middle;\n",
       "    }\n",
       "\n",
       "    .dataframe tbody tr th {\n",
       "        vertical-align: top;\n",
       "    }\n",
       "\n",
       "    .dataframe thead th {\n",
       "        text-align: right;\n",
       "    }\n",
       "</style>\n",
       "<table border=\"1\" class=\"dataframe\">\n",
       "  <thead>\n",
       "    <tr style=\"text-align: right;\">\n",
       "      <th></th>\n",
       "      <th>r2</th>\n",
       "      <th>MAE</th>\n",
       "      <th>MedAE</th>\n",
       "      <th>MSE</th>\n",
       "      <th>RMSE</th>\n",
       "      <th>MAPE</th>\n",
       "      <th>MDAPE</th>\n",
       "    </tr>\n",
       "    <tr>\n",
       "      <th>type</th>\n",
       "      <th></th>\n",
       "      <th></th>\n",
       "      <th></th>\n",
       "      <th></th>\n",
       "      <th></th>\n",
       "      <th></th>\n",
       "      <th></th>\n",
       "    </tr>\n",
       "  </thead>\n",
       "  <tbody>\n",
       "    <tr>\n",
       "      <th>holt</th>\n",
       "      <td>-0.988285</td>\n",
       "      <td>70594.234705</td>\n",
       "      <td>62030.838571</td>\n",
       "      <td>7.484838e+09</td>\n",
       "      <td>86514.959145</td>\n",
       "      <td>13.330065</td>\n",
       "      <td>10.891756</td>\n",
       "    </tr>\n",
       "    <tr>\n",
       "      <th>sarima</th>\n",
       "      <td>-0.766548</td>\n",
       "      <td>77407.674364</td>\n",
       "      <td>69708.644297</td>\n",
       "      <td>8.557739e+09</td>\n",
       "      <td>92508.048593</td>\n",
       "      <td>14.740205</td>\n",
       "      <td>12.172672</td>\n",
       "    </tr>\n",
       "    <tr>\n",
       "      <th>sarimax</th>\n",
       "      <td>-0.766548</td>\n",
       "      <td>77407.674364</td>\n",
       "      <td>69708.644357</td>\n",
       "      <td>8.557739e+09</td>\n",
       "      <td>92508.048587</td>\n",
       "      <td>14.740205</td>\n",
       "      <td>12.172672</td>\n",
       "    </tr>\n",
       "  </tbody>\n",
       "</table>\n",
       "</div>"
      ],
      "text/plain": [
       "               r2           MAE         MedAE           MSE          RMSE  \\\n",
       "type                                                                        \n",
       "holt    -0.988285  70594.234705  62030.838571  7.484838e+09  86514.959145   \n",
       "sarima  -0.766548  77407.674364  69708.644297  8.557739e+09  92508.048593   \n",
       "sarimax -0.766548  77407.674364  69708.644357  8.557739e+09  92508.048587   \n",
       "\n",
       "              MAPE      MDAPE  \n",
       "type                           \n",
       "holt     13.330065  10.891756  \n",
       "sarima   14.740205  12.172672  \n",
       "sarimax  14.740205  12.172672  "
      ]
     },
     "execution_count": 119,
     "metadata": {},
     "output_type": "execute_result"
    }
   ],
   "source": [
    "measures.groupby('type').median()"
   ]
  },
  {
   "cell_type": "markdown",
   "metadata": {},
   "source": [
    "# plots\n"
   ]
  },
  {
   "cell_type": "code",
   "execution_count": 120,
   "metadata": {
    "ExecuteTime": {
     "end_time": "2022-03-25T11:07:46.571286Z",
     "start_time": "2022-03-25T11:07:46.531277Z"
    }
   },
   "outputs": [],
   "source": [
    "plt.rcParams['figure.figsize'] = [5, 5.5]\n",
    "\n",
    "cols_1 = ['MAE', 'MedAE', 'RMSE']\n",
    "cols_2 = ['MSE']\n",
    "cols_3 = ['r2', 'MAPE', 'MDAPE']\n",
    "\n",
    "sarima_plot_1 = sarima[cols_1].melt()\n",
    "sarima_plot_1['type'] = 'sarima'\n",
    "\n",
    "sarimax_plot_1 = sarimax[cols_1].melt()\n",
    "sarimax_plot_1['type'] = 'sarimax'\n",
    "\n",
    "holt_plot_1 = holt[cols_1].melt()\n",
    "holt_plot_1['type'] = 'holt'\n",
    "\n",
    "measures_1 = pd.concat([sarima_plot_1, sarimax_plot_1, holt_plot_1], ignore_index=True)\n",
    "\n",
    "sarima_plot_2 = sarima[cols_2].melt()\n",
    "sarima_plot_2['type'] = 'sarima'\n",
    "\n",
    "sarimax_plot_2 = sarimax[cols_2].melt()\n",
    "sarimax_plot_2['type'] = 'sarimax'\n",
    "\n",
    "holt_plot_2 = holt[cols_2].melt()\n",
    "holt_plot_2['type'] = 'holt'\n",
    "\n",
    "measures_2 = pd.concat([sarima_plot_2, sarimax_plot_2, holt_plot_2], ignore_index=True)\n",
    "\n",
    "sarima_plot_3 = sarima[cols_3].melt()\n",
    "sarima_plot_3['type'] = 'sarima'\n",
    "\n",
    "sarimax_plot_3 = sarimax[cols_3].melt()\n",
    "sarimax_plot_3['type'] = 'sarimax'\n",
    "\n",
    "holt_plot_3 = holt[cols_3].melt()\n",
    "holt_plot_3['type'] = 'holt'\n",
    "\n",
    "measures_3 = pd.concat([sarima_plot_3, sarimax_plot_3, holt_plot_3], ignore_index=True)"
   ]
  },
  {
   "cell_type": "code",
   "execution_count": 121,
   "metadata": {
    "ExecuteTime": {
     "end_time": "2022-03-25T11:07:46.929753Z",
     "start_time": "2022-03-25T11:07:46.706769Z"
    }
   },
   "outputs": [
    {
     "data": {
      "text/plain": [
       "<matplotlib.axes._subplots.AxesSubplot at 0x2cfafbe75c8>"
      ]
     },
     "execution_count": 121,
     "metadata": {},
     "output_type": "execute_result"
    },
    {
     "data": {
      "image/png": "[encoded data removed]",
      "text/plain": [
       "<Figure size 360x396 with 1 Axes>"
      ]
     },
     "metadata": {
      "needs_background": "light"
     },
     "output_type": "display_data"
    }
   ],
   "source": [
    "sns.boxplot(x=\"variable\", y=\"value\", hue=\"type\", data=measures_1, palette=\"Set3\", showfliers = False)"
   ]
  },
  {
   "cell_type": "code",
   "execution_count": 122,
   "metadata": {
    "ExecuteTime": {
     "end_time": "2022-03-25T11:07:47.070601Z",
     "start_time": "2022-03-25T11:07:46.930755Z"
    }
   },
   "outputs": [
    {
     "data": {
      "text/plain": [
       "<matplotlib.axes._subplots.AxesSubplot at 0x2cfafd1ff88>"
      ]
     },
     "execution_count": 122,
     "metadata": {},
     "output_type": "execute_result"
    },
    {
     "data": {
      "image/png": "[encoded data removed]",
      "text/plain": [
       "<Figure size 360x396 with 1 Axes>"
      ]
     },
     "metadata": {
      "needs_background": "light"
     },
     "output_type": "display_data"
    }
   ],
   "source": [
    "sns.boxplot(x=\"variable\", y=\"value\", hue=\"type\", data=measures_2, palette=\"Set3\", showfliers = False)"
   ]
  },
  {
   "cell_type": "code",
   "execution_count": 123,
   "metadata": {
    "ExecuteTime": {
     "end_time": "2022-03-25T11:07:47.353064Z",
     "start_time": "2022-03-25T11:07:47.071617Z"
    }
   },
   "outputs": [
    {
     "data": {
      "text/plain": [
       "<matplotlib.axes._subplots.AxesSubplot at 0x2cfafdb2688>"
      ]
     },
     "execution_count": 123,
     "metadata": {},
     "output_type": "execute_result"
    },
    {
     "data": {
      "image/png": "[encoded data removed]",
      "text/plain": [
       "<Figure size 360x396 with 1 Axes>"
      ]
     },
     "metadata": {
      "needs_background": "light"
     },
     "output_type": "display_data"
    }
   ],
   "source": [
    "sns.boxplot(x=\"variable\", y=\"value\", hue=\"type\", data=measures_3, palette=\"Set3\", showfliers = False)"
   ]
  },
  {
   "cell_type": "markdown",
   "metadata": {},
   "source": [
    "# comparing the different scores"
   ]
  },
  {
   "cell_type": "markdown",
   "metadata": {},
   "source": [
    "For each row (with indicate areas), the best model is determined per score. <br>\n",
    "These scores are tallied, to determine per score which model performs best for the most areas. <br>\n",
    "This way the different scales of the different areas are taken into account <br>\n",
    "\n",
    "By this measure, the interference of outliers can be minimized, and the scales should not be as influential"
   ]
  },
  {
   "cell_type": "markdown",
   "metadata": {},
   "source": [
    "- $R^2$ should be as high as possible\n",
    "\n",
    "The other values should be as low as possible\n",
    "- MAE (Mean absolute error) \n",
    "- MedAE (Median absolute error) \n",
    "- MSE (Mean squared error) \n",
    "- RMSE (Root mean squared error) \n",
    "- MAPE (Mean absolute percentage error) \n",
    "- MDAPE (Median absolute percentage error) "
   ]
  },
  {
   "cell_type": "code",
   "execution_count": 124,
   "metadata": {
    "ExecuteTime": {
     "end_time": "2022-03-25T11:07:48.242658Z",
     "start_time": "2022-03-25T11:07:47.795906Z"
    }
   },
   "outputs": [],
   "source": [
    "tallies = pd.DataFrame({'r2': [0,0,0], 'MAE':[0,0,0], 'MedAE':[0,0,0], 'MSE':[0,0,0],\n",
    "             'RMSE':[0,0,0], 'MAPE':[0,0,0], 'MDAPE':[0,0,0]}, index = ['sarima', 'sarimax', 'holt winters'])\n",
    "\n",
    "models = tallies.index\n",
    "# evaluate per row which model performs best\n",
    "for i in sarima.index:\n",
    "    \n",
    "    # iterate through all rows\n",
    "    for measure in sarima.columns:\n",
    "        scores = [sarima.loc[i, measure], sarimax.loc[i, measure], holt.loc[i, measure]]\n",
    "        best_model = models[ scores.index(max(scores)) ] if measure == 'r2' else models[ scores.index(min(scores)) ]\n",
    "        \n",
    "        tallies.loc[best_model , measure] += 1"
   ]
  },
  {
   "cell_type": "code",
   "execution_count": 125,
   "metadata": {
    "ExecuteTime": {
     "end_time": "2022-03-25T11:07:48.935192Z",
     "start_time": "2022-03-25T11:07:48.923166Z"
    }
   },
   "outputs": [
    {
     "data": {
      "text/html": [
       "<div>\n",
       "<style scoped>\n",
       "    .dataframe tbody tr th:only-of-type {\n",
       "        vertical-align: middle;\n",
       "    }\n",
       "\n",
       "    .dataframe tbody tr th {\n",
       "        vertical-align: top;\n",
       "    }\n",
       "\n",
       "    .dataframe thead th {\n",
       "        text-align: right;\n",
       "    }\n",
       "</style>\n",
       "<table border=\"1\" class=\"dataframe\">\n",
       "  <thead>\n",
       "    <tr style=\"text-align: right;\">\n",
       "      <th></th>\n",
       "      <th>r2</th>\n",
       "      <th>MAE</th>\n",
       "      <th>MedAE</th>\n",
       "      <th>MSE</th>\n",
       "      <th>RMSE</th>\n",
       "      <th>MAPE</th>\n",
       "      <th>MDAPE</th>\n",
       "    </tr>\n",
       "  </thead>\n",
       "  <tbody>\n",
       "    <tr>\n",
       "      <th>sarima</th>\n",
       "      <td>98</td>\n",
       "      <td>65</td>\n",
       "      <td>57</td>\n",
       "      <td>62</td>\n",
       "      <td>62</td>\n",
       "      <td>52</td>\n",
       "      <td>57</td>\n",
       "    </tr>\n",
       "    <tr>\n",
       "      <th>sarimax</th>\n",
       "      <td>89</td>\n",
       "      <td>52</td>\n",
       "      <td>60</td>\n",
       "      <td>47</td>\n",
       "      <td>47</td>\n",
       "      <td>53</td>\n",
       "      <td>60</td>\n",
       "    </tr>\n",
       "    <tr>\n",
       "      <th>holt winters</th>\n",
       "      <td>146</td>\n",
       "      <td>216</td>\n",
       "      <td>216</td>\n",
       "      <td>224</td>\n",
       "      <td>224</td>\n",
       "      <td>228</td>\n",
       "      <td>216</td>\n",
       "    </tr>\n",
       "  </tbody>\n",
       "</table>\n",
       "</div>"
      ],
      "text/plain": [
       "               r2  MAE  MedAE  MSE  RMSE  MAPE  MDAPE\n",
       "sarima         98   65     57   62    62    52     57\n",
       "sarimax        89   52     60   47    47    53     60\n",
       "holt winters  146  216    216  224   224   228    216"
      ]
     },
     "execution_count": 125,
     "metadata": {},
     "output_type": "execute_result"
    }
   ],
   "source": [
    "tallies"
   ]
  }
 ],
 "metadata": {
  "kernelspec": {
   "display_name": "Python 3",
   "language": "python",
   "name": "python3"
  },
  "language_info": {
   "codemirror_mode": {
    "name": "ipython",
    "version": 3
   },
   "file_extension": ".py",
   "mimetype": "text/x-python",
   "name": "python",
   "nbconvert_exporter": "python",
   "pygments_lexer": "ipython3",
   "version": "3.7.6"
  },
  "toc": {
   "base_numbering": 1,
   "nav_menu": {},
   "number_sections": true,
   "sideBar": true,
   "skip_h1_title": false,
   "title_cell": "Table of Contents",
   "title_sidebar": "Contents",
   "toc_cell": false,
   "toc_position": {},
   "toc_section_display": true,
   "toc_window_display": false
  }
 },
 "nbformat": 4,
 "nbformat_minor": 4
}
